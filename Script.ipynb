{
 "cells": [
  {
   "cell_type": "code",
   "execution_count": 1,
   "id": "b262d882",
   "metadata": {
    "scrolled": true
   },
   "outputs": [
    {
     "name": "stderr",
     "output_type": "stream",
     "text": [
      "C:\\Users\\Federico\\anaconda3\\lib\\site-packages\\pandas\\core\\arrays\\masked.py:60: UserWarning: Pandas requires version '1.3.6' or newer of 'bottleneck' (version '1.3.5' currently installed).\n",
      "  from pandas.core import (\n"
     ]
    }
   ],
   "source": [
    "import pandas as pd\n",
    "import numpy as np\n",
    "import matplotlib.pyplot as plt\n",
    "import seaborn as sns\n",
    "import plotly.express as px\n",
    "import sklearn as sk\n",
    "from sklearn import model_selection\n",
    "from sklearn import ensemble\n",
    "from sklearn import metrics\n",
    "from sklearn.ensemble import RandomForestClassifier\n",
    "from sklearn.model_selection import KFold\n",
    "from sklearn.metrics import accuracy_score\n",
    "from sklearn import tree\n",
    "import warnings\n",
    "from collections import Counter\n",
    "import requests\n",
    "from bs4 import BeautifulSoup\n",
    "warnings.filterwarnings(\"ignore\")\n",
    "pd.set_option('display.max_colwidth', None)"
   ]
  },
  {
   "cell_type": "markdown",
   "id": "bdbd7c83",
   "metadata": {},
   "source": [
    "## Leo los datos"
   ]
  },
  {
   "cell_type": "code",
   "execution_count": 2,
   "id": "1808eaba",
   "metadata": {},
   "outputs": [],
   "source": [
    "df_train=pd.read_csv(\"entrenamiento.csv\", sep=\",\")\n",
    "df_lectores=pd.read_csv(\"lectores.csv\",sep=\",\")\n",
    "df_libros=pd.read_csv(\"libros.csv\",sep=\",\")\n",
    "df_test=pd.read_csv(\"prueba.csv\",sep=\",\")"
   ]
  },
  {
   "cell_type": "markdown",
   "id": "49c8d615",
   "metadata": {},
   "source": [
    "## Acomodamos df_libros"
   ]
  },
  {
   "cell_type": "code",
   "execution_count": 3,
   "id": "a6864d2a",
   "metadata": {},
   "outputs": [],
   "source": [
    "#elimino duplicados\n",
    "df_libros.drop_duplicates(subset='id_libro', inplace=True)"
   ]
  },
  {
   "cell_type": "markdown",
   "id": "bf33576c",
   "metadata": {},
   "source": [
    "## Web scraping para los libros que no tengo informacion del titulo, genero, etc"
   ]
  },
  {
   "cell_type": "code",
   "execution_count": null,
   "id": "8d177e35",
   "metadata": {},
   "outputs": [],
   "source": [
    "libros_na=df_libros[df_libros[\"titulo\"].isna()]"
   ]
  },
  {
   "cell_type": "code",
   "execution_count": null,
   "id": "6776c784",
   "metadata": {},
   "outputs": [],
   "source": [
    "def get_book_title(url):\n",
    "    res = requests.get(url)\n",
    "    if res.status_code == 200:\n",
    "        soup = BeautifulSoup(res.content, 'html.parser')\n",
    "        title_input = soup.find('input', {'name': 'titulo'})\n",
    "        if title_input:\n",
    "            return title_input['value']\n",
    "        else:\n",
    "            return \"Título no encontrado\"\n",
    "    else:\n",
    "        return \"Error al hacer la solicitud\"\n",
    "\n",
    "\n",
    "def get_book_author(url):\n",
    "    res = requests.get(url)\n",
    "    if res.status_code == 200:\n",
    "        soup = BeautifulSoup(res.content, 'html.parser')\n",
    "        author_input = soup.find('input', {'name': 'autor'})\n",
    "        if author_input:\n",
    "            return author_input['value']\n",
    "        else:\n",
    "            return \"Autor no encontrado\"\n",
    "    else:\n",
    "        return \"Error al hacer la solicitud\"\n",
    "    \n",
    "def get_book_genre(url):\n",
    "    res = requests.get(url)\n",
    "    if res.status_code == 200:\n",
    "        soup = BeautifulSoup(res.content, 'html.parser')\n",
    "        genre_input = soup.find('input', {'name': 'genero'})\n",
    "        if genre_input:\n",
    "            return genre_input['value']\n",
    "        else:\n",
    "            return \"Género no encontrado\"\n",
    "    else:\n",
    "        return \"Error al hacer la solicitud\"\n",
    "    \n",
    "def get_book_editorial(url):\n",
    "    res = requests.get(url)\n",
    "    if res.status_code == 200:\n",
    "        soup = BeautifulSoup(res.content, 'html.parser')\n",
    "        # Encontrar el <li> que contiene \"Editorial\"\n",
    "        editorial_span = soup.find('span', text='Editorial')\n",
    "        if editorial_span:\n",
    "            editorial_li = editorial_span.find_parent('li')\n",
    "            if editorial_li:\n",
    "                editorial_a = editorial_li.find('a')\n",
    "                if editorial_a:\n",
    "                    return editorial_a.get_text()\n",
    "                else:\n",
    "                    return \"Editorial no encontrada\"\n",
    "            else:\n",
    "                return \"Editorial no encontrada\"\n",
    "        else:\n",
    "            return \"Editorial no encontrada\"\n",
    "    else:\n",
    "        return \"Error al hacer la solicitud\"\n",
    "\n",
    "def get_book_year(url):\n",
    "    res = requests.get(url)\n",
    "    if res.status_code == 200:\n",
    "        soup = BeautifulSoup(res.content, 'html.parser')\n",
    "        # Encontrar el <li> que contiene \"Año de edición\"\n",
    "        year_span = soup.find('span', text='Año de edición')\n",
    "        if year_span:\n",
    "            year_li = year_span.find_parent('li')\n",
    "            if year_li:\n",
    "                year = year_li.get_text(strip=True).replace('Año de edición', '').strip()\n",
    "                return year\n",
    "            else:\n",
    "                return \"Año de edición no encontrado\"\n",
    "        else:\n",
    "            return \"Año de edición no encontrado\"\n",
    "    else:\n",
    "        return \"Error al hacer la solicitud\"\n",
    "\n",
    "\n",
    "def add_book_details(df, title_column):\n",
    "    base_url = \"https://quelibroleo.com/\"\n",
    "    titles = []\n",
    "    authors = []\n",
    "    genres = []\n",
    "    editorials = []\n",
    "    years = []\n",
    "    \n",
    "    for title in df[title_column]:\n",
    "        book_url_fragment = title.lower().replace(' ', '-')\n",
    "        book_url = base_url + book_url_fragment\n",
    "        \n",
    "        book_title = get_book_title(book_url)\n",
    "        titles.append(book_title)\n",
    "        \n",
    "        book_author = get_book_author(book_url)\n",
    "        authors.append(book_author)\n",
    "        \n",
    "        book_genre = get_book_genre(book_url)\n",
    "        genres.append(book_genre)\n",
    "        \n",
    "        book_editorial = get_book_editorial(book_url)\n",
    "        editorials.append(book_editorial)\n",
    "        \n",
    "        book_year = get_book_year(book_url)\n",
    "        years.append(book_year)\n",
    "    \n",
    "    df['titulo'] = titles\n",
    "    df['autor'] = authors\n",
    "    df['genero'] = genres\n",
    "    df['editorial'] = editorials\n",
    "    df['anio_edicion'] = years\n",
    "    return df\n"
   ]
  },
  {
   "cell_type": "code",
   "execution_count": null,
   "id": "e9130b18",
   "metadata": {},
   "outputs": [],
   "source": [
    "libros_na=add_book_details(libros_na, \"id_libro\")"
   ]
  },
  {
   "cell_type": "code",
   "execution_count": null,
   "id": "80dc3336",
   "metadata": {},
   "outputs": [],
   "source": [
    "## ahora rellenos los Nan en df_libros\n",
    "df_libros = df_libros.combine_first(libros_na)"
   ]
  },
  {
   "cell_type": "code",
   "execution_count": null,
   "id": "88a92706",
   "metadata": {},
   "outputs": [],
   "source": [
    "# uno que tiene mal el año lo corrijo a mano\n",
    "df_libros[df_libros[\"anio_edicion\"]==\"(200\"]"
   ]
  },
  {
   "cell_type": "code",
   "execution_count": null,
   "id": "2741d375",
   "metadata": {},
   "outputs": [],
   "source": [
    "df_libros.loc[104, 'anio_edicion'] = 1866"
   ]
  },
  {
   "cell_type": "markdown",
   "id": "bffc139f",
   "metadata": {},
   "source": [
    "## Nota media de los libros"
   ]
  },
  {
   "cell_type": "code",
   "execution_count": null,
   "id": "0a823fb8",
   "metadata": {},
   "outputs": [],
   "source": [
    "def get_book_rating(url):\n",
    "    res = requests.get(url)\n",
    "    if res.status_code == 200:\n",
    "        soup = BeautifulSoup(res.content, 'html.parser')\n",
    "        estadisticas_div = soup.find(class_=\"estadisticas\")\n",
    "        rating_span = estadisticas_div.find('span', itemprop=\"ratingValue\")\n",
    "        if rating_span:\n",
    "            return rating_span.get_text()\n",
    "        else:\n",
    "            return \"Puntuación no encontrada\"\n",
    "    else:\n",
    "        return \"Error al hacer la solicitud\"\n",
    "\n",
    "def add_book_ratings(df, title_column):\n",
    "    base_url = \"https://quelibroleo.com/\"\n",
    "    ratings = []\n",
    "    \n",
    "    for title in df[title_column]:\n",
    "        # Convertir el título en una URL amigable\n",
    "        book_url_fragment = title.lower().replace(' ', '-')\n",
    "        book_url = base_url + book_url_fragment\n",
    "        \n",
    "        # Obtener la puntuación del libro\n",
    "        rating = get_book_rating(book_url)\n",
    "        ratings.append(rating)\n",
    "    \n",
    "    # Añadir la nueva columna con las puntuaciones al DataFrame\n",
    "    df['rating'] = ratings\n",
    "    return df"
   ]
  },
  {
   "cell_type": "code",
   "execution_count": null,
   "id": "5309c23c",
   "metadata": {},
   "outputs": [],
   "source": [
    "df_libros = add_book_ratings(df_libros, 'id_libro')"
   ]
  },
  {
   "cell_type": "code",
   "execution_count": null,
   "id": "622ce149",
   "metadata": {},
   "outputs": [],
   "source": [
    "### como el scraping tarda mucho dejo lo escrapeado como libros_rankiados.csv\n",
    "df_libros.to_csv(\"libros_rankiados.csv\", index=False)"
   ]
  },
  {
   "cell_type": "code",
   "execution_count": 4,
   "id": "feff1b30",
   "metadata": {},
   "outputs": [],
   "source": [
    "df_libros=pd.read_csv(\"libros_rankiados.csv\",sep=\",\")"
   ]
  },
  {
   "cell_type": "code",
   "execution_count": 5,
   "id": "9021faec",
   "metadata": {},
   "outputs": [],
   "source": [
    "df_libros['titulo'] = df_libros['titulo'].str.lower().str.replace(' ', '').str.normalize('NFKD').str.encode('ascii', errors='ignore').str.decode('utf-8')\n",
    "df_libros['autor'] = df_libros['autor'].str.lower().str.replace(' ', '').str.normalize('NFKD').str.encode('ascii', errors='ignore').str.decode('utf-8')\n",
    "df_libros['genero'] = df_libros['genero'].str.lower().str.replace(' ', '').str.normalize('NFKD').str.encode('ascii', errors='ignore').str.decode('utf-8')\n",
    "df_libros['editorial'] = df_libros['editorial'].str.lower().str.replace(' ', '').str.normalize('NFKD').str.encode('ascii', errors='ignore').str.decode('utf-8')"
   ]
  },
  {
   "cell_type": "code",
   "execution_count": 6,
   "id": "96adebd2",
   "metadata": {},
   "outputs": [],
   "source": [
    "df_libros[\"anio_edicion\"] = pd.to_numeric(df_libros[\"anio_edicion\"], errors=\"coerce\")\n",
    "df_libros[\"antiguedad_libro\"] = np.where(df_libros[\"anio_edicion\"].notnull(), 2024 - df_libros[\"anio_edicion\"], np.nan)"
   ]
  },
  {
   "cell_type": "code",
   "execution_count": 7,
   "id": "0d641264",
   "metadata": {},
   "outputs": [],
   "source": [
    "col_eliminar=[\"resumen\",\"img_src\",\"isbn\",\"anio_edicion\"]\n",
    "df_libros.drop(col_eliminar, axis=1, inplace= True)"
   ]
  },
  {
   "cell_type": "markdown",
   "id": "e702c9ec",
   "metadata": {},
   "source": [
    "### Reduzco la cantidad de autores"
   ]
  },
  {
   "cell_type": "code",
   "execution_count": 8,
   "id": "bdab663b",
   "metadata": {},
   "outputs": [],
   "source": [
    "cant_librosxautor=df_libros.groupby(\"autor\").id_libro.count().reset_index().set_index(\"autor\").sort_values(by=\"id_libro\",ascending=False)"
   ]
  },
  {
   "cell_type": "code",
   "execution_count": 9,
   "id": "664f1f0d",
   "metadata": {},
   "outputs": [],
   "source": [
    "autores_varios=cant_librosxautor[cant_librosxautor[\"id_libro\"]<15].reset_index()[[\"autor\"]]"
   ]
  },
  {
   "cell_type": "code",
   "execution_count": 10,
   "id": "56c45752",
   "metadata": {},
   "outputs": [],
   "source": [
    "autores_varios_set = set(autores_varios['autor'])\n",
    "\n",
    "# Función para aplicar la lógica de reemplazo\n",
    "def identificar_autor(autor):\n",
    "    if autor in autores_varios_set:\n",
    "        return 'N/s'\n",
    "    else:\n",
    "        return autor\n",
    "\n",
    "# Aplicar la función al DataFrame df_libros\n",
    "df_libros['autor'] = df_libros['autor'].apply(identificar_autor)"
   ]
  },
  {
   "cell_type": "code",
   "execution_count": 11,
   "id": "a70b5d54",
   "metadata": {},
   "outputs": [],
   "source": [
    "conteo_libros = df_libros.groupby('autor')['id_libro'].count().reset_index()\n",
    "conteo_libros = conteo_libros.rename(columns={'id_libro': 'cantidad_libros'}).sort_values(by=\"cantidad_libros\")"
   ]
  },
  {
   "cell_type": "markdown",
   "id": "90551726",
   "metadata": {},
   "source": [
    "### Reduzco la cantidad de editoriales"
   ]
  },
  {
   "cell_type": "code",
   "execution_count": 12,
   "id": "d9136f98",
   "metadata": {},
   "outputs": [],
   "source": [
    "cant_librosxeditorial=df_libros.groupby(\"editorial\").id_libro.count().reset_index().set_index(\"editorial\").sort_values(by=\"id_libro\",ascending=False)"
   ]
  },
  {
   "cell_type": "code",
   "execution_count": 13,
   "id": "aeb0a5e4",
   "metadata": {},
   "outputs": [],
   "source": [
    "editorial_varios=cant_librosxeditorial[cant_librosxeditorial[\"id_libro\"]<20].reset_index()[[\"editorial\"]]"
   ]
  },
  {
   "cell_type": "code",
   "execution_count": 14,
   "id": "3b9e039c",
   "metadata": {},
   "outputs": [],
   "source": [
    "editorial_varios_set = set(editorial_varios['editorial'])\n",
    "\n",
    "# Función para aplicar la lógica de reemplazo\n",
    "def identificar_editorial(editorial):\n",
    "    if editorial in editorial_varios_set:\n",
    "        return 'N/s'\n",
    "    else:\n",
    "        return editorial\n",
    "\n",
    "# Aplicar la función al DataFrame df_libros\n",
    "df_libros['editorial'] = df_libros['editorial'].apply(identificar_editorial)"
   ]
  },
  {
   "cell_type": "markdown",
   "id": "7313be45",
   "metadata": {},
   "source": [
    "## Unifico generos "
   ]
  },
  {
   "cell_type": "code",
   "execution_count": 16,
   "id": "325314e4",
   "metadata": {},
   "outputs": [],
   "source": [
    "mapeo_generos = {\"narrativahistorica\": 'narrativa',\n",
    "                 'policiaca.novelanegraenbolsillo': 'novelanegra,intriga,terror',\n",
    "                'novelanegra': 'novelanegra,intriga,terror', \n",
    "                 'estudiosyensayos': 'ensayo',\n",
    "                 \"novela\": 'literaturacontemporanea',\n",
    "                 'juvenil': 'infantilyjuvenil',\n",
    "                 \"cienciaficcionenbolsillo\": 'fantastica,cienciaficcion',\n",
    "                 \"comicsdehumor\": 'comics,novelagrafica',\n",
    "                 \"comics\": 'comics,novelagrafica',\n",
    "                  'romantica': 'romantica,erotica', \n",
    "                  'poesia': 'poesia,teatro',\n",
    "                  'cocina': 'varios',\n",
    "                 'fotografia': 'varios',\n",
    "                 'idiomas': 'varios',\n",
    "                 'politicanacional': 'varios',\n",
    "                 'guiasdeviaje': 'varios',\n",
    "                 'television': 'varios',\n",
    "                 'didacticaymetodologia': 'varios',\n",
    "                 'deportessobreruedas': 'varios',\n",
    "                 'albumesilustrados': 'varios',\n",
    "                 'deportesyjuegos': 'varios',\n",
    "                 'albumesilustrados': 'varios',\n",
    "                'informatica': 'varios',\n",
    "                'cienciaspoliticasysociales': 'varios',\n",
    "                \"naturalezayciencia\": 'varios',\n",
    "                \"psicologiaypedagogia\": 'varios',\n",
    "                \"filologia\": 'varios',\n",
    "                'derecho': 'varios',\n",
    "                'naturalezayciencia': 'varios',\n",
    "                \"matematicasdivulgativas\": 'varios',\n",
    "                 'ciencias': 'varios',\n",
    "                'actores': 'varios',\n",
    "                'historiadelcine': 'varios',\n",
    "                 'biografias': 'varios',\n",
    "                'economiafinanciera': 'varios',\n",
    "                'economia': 'varios',\n",
    "                'historiamodernadeespana': 'historia',\n",
    "                \"historica\": 'historia',\n",
    "                'autoayuda': 'autoayudayespiritualidad',\n",
    "                \"astrologiayhoroscopos\": 'autoayudayespiritualidad',\n",
    "                \"musica\": 'arte',   \n",
    "                \"albumesilustrados\"\n",
    "                \"albumesilustrados\": 'arte',                  \n",
    "                'cienciashumanas': 'medicina',\n",
    "                \"medicinadivulgativa\": 'medicina',\n",
    "                \"dieteticaynutricion\": 'medicina',    \n",
    "                 'administracionydireccionempresarial': 'empresa'\n",
    "                }\n"
   ]
  },
  {
   "cell_type": "code",
   "execution_count": 17,
   "id": "4b2f17e2",
   "metadata": {},
   "outputs": [],
   "source": [
    "df_libros['genero'] = df_libros['genero'].replace(mapeo_generos)"
   ]
  },
  {
   "cell_type": "markdown",
   "id": "85732433",
   "metadata": {},
   "source": [
    "# Acomodamos Lectores"
   ]
  },
  {
   "cell_type": "code",
   "execution_count": 18,
   "id": "88eea2e5",
   "metadata": {},
   "outputs": [],
   "source": [
    "df_lectores.rename(columns={'genero':'sexo'}, inplace=True)"
   ]
  },
  {
   "cell_type": "code",
   "execution_count": 19,
   "id": "e11584b1",
   "metadata": {},
   "outputs": [],
   "source": [
    "df_lectores['sexo'] = df_lectores['sexo'].str.lower()"
   ]
  },
  {
   "cell_type": "code",
   "execution_count": 20,
   "id": "8ff6aa72",
   "metadata": {},
   "outputs": [
    {
     "data": {
      "text/html": [
       "<div>\n",
       "<style scoped>\n",
       "    .dataframe tbody tr th:only-of-type {\n",
       "        vertical-align: middle;\n",
       "    }\n",
       "\n",
       "    .dataframe tbody tr th {\n",
       "        vertical-align: top;\n",
       "    }\n",
       "\n",
       "    .dataframe thead th {\n",
       "        text-align: right;\n",
       "    }\n",
       "</style>\n",
       "<table border=\"1\" class=\"dataframe\">\n",
       "  <thead>\n",
       "    <tr style=\"text-align: right;\">\n",
       "      <th></th>\n",
       "      <th>id_lector</th>\n",
       "      <th>nombre</th>\n",
       "      <th>sexo</th>\n",
       "      <th>vive_en</th>\n",
       "      <th>nacimiento</th>\n",
       "    </tr>\n",
       "  </thead>\n",
       "  <tbody>\n",
       "    <tr>\n",
       "      <th>14</th>\n",
       "      <td>15</td>\n",
       "      <td>jose felix</td>\n",
       "      <td>NaN</td>\n",
       "      <td>Santoña - España</td>\n",
       "      <td>NaN</td>\n",
       "    </tr>\n",
       "    <tr>\n",
       "      <th>36</th>\n",
       "      <td>37</td>\n",
       "      <td>iván rd</td>\n",
       "      <td>NaN</td>\n",
       "      <td>Toledo - España</td>\n",
       "      <td>NaN</td>\n",
       "    </tr>\n",
       "    <tr>\n",
       "      <th>45</th>\n",
       "      <td>46</td>\n",
       "      <td>juan</td>\n",
       "      <td>NaN</td>\n",
       "      <td>España</td>\n",
       "      <td>NaN</td>\n",
       "    </tr>\n",
       "    <tr>\n",
       "      <th>90</th>\n",
       "      <td>91</td>\n",
       "      <td>ángela</td>\n",
       "      <td>NaN</td>\n",
       "      <td>España</td>\n",
       "      <td>1910.0</td>\n",
       "    </tr>\n",
       "    <tr>\n",
       "      <th>94</th>\n",
       "      <td>95</td>\n",
       "      <td>mª josé  lópez-tello</td>\n",
       "      <td>NaN</td>\n",
       "      <td>Málaga - España</td>\n",
       "      <td>1966.0</td>\n",
       "    </tr>\n",
       "    <tr>\n",
       "      <th>100</th>\n",
       "      <td>101</td>\n",
       "      <td>ana lopi lopezuela</td>\n",
       "      <td>NaN</td>\n",
       "      <td>España</td>\n",
       "      <td>NaN</td>\n",
       "    </tr>\n",
       "    <tr>\n",
       "      <th>101</th>\n",
       "      <td>102</td>\n",
       "      <td>eldominadas</td>\n",
       "      <td>NaN</td>\n",
       "      <td>Oleiros - España</td>\n",
       "      <td>1975.0</td>\n",
       "    </tr>\n",
       "    <tr>\n",
       "      <th>108</th>\n",
       "      <td>109</td>\n",
       "      <td>rómulo</td>\n",
       "      <td>NaN</td>\n",
       "      <td>San antonio de los altos - Venezuela</td>\n",
       "      <td>1992.0</td>\n",
       "    </tr>\n",
       "    <tr>\n",
       "      <th>115</th>\n",
       "      <td>116</td>\n",
       "      <td>hector tejada marivela</td>\n",
       "      <td>NaN</td>\n",
       "      <td>NaN</td>\n",
       "      <td>NaN</td>\n",
       "    </tr>\n",
       "    <tr>\n",
       "      <th>120</th>\n",
       "      <td>121</td>\n",
       "      <td>alicia delgado</td>\n",
       "      <td>NaN</td>\n",
       "      <td>España</td>\n",
       "      <td>NaN</td>\n",
       "    </tr>\n",
       "    <tr>\n",
       "      <th>129</th>\n",
       "      <td>130</td>\n",
       "      <td>elena</td>\n",
       "      <td>NaN</td>\n",
       "      <td>España</td>\n",
       "      <td>1990.0</td>\n",
       "    </tr>\n",
       "    <tr>\n",
       "      <th>159</th>\n",
       "      <td>160</td>\n",
       "      <td>agustin fraile san martin</td>\n",
       "      <td>NaN</td>\n",
       "      <td>Albacete - España</td>\n",
       "      <td>1948.0</td>\n",
       "    </tr>\n",
       "    <tr>\n",
       "      <th>173</th>\n",
       "      <td>174</td>\n",
       "      <td>miguel angel arquez</td>\n",
       "      <td>NaN</td>\n",
       "      <td>España</td>\n",
       "      <td>NaN</td>\n",
       "    </tr>\n",
       "    <tr>\n",
       "      <th>201</th>\n",
       "      <td>202</td>\n",
       "      <td>rosana polo fernández-mayoralas</td>\n",
       "      <td>NaN</td>\n",
       "      <td>España</td>\n",
       "      <td>1960.0</td>\n",
       "    </tr>\n",
       "    <tr>\n",
       "      <th>224</th>\n",
       "      <td>225</td>\n",
       "      <td>rafa faus garcía</td>\n",
       "      <td>NaN</td>\n",
       "      <td>España</td>\n",
       "      <td>NaN</td>\n",
       "    </tr>\n",
       "  </tbody>\n",
       "</table>\n",
       "</div>"
      ],
      "text/plain": [
       "     id_lector                           nombre sexo  \\\n",
       "14          15                       jose felix  NaN   \n",
       "36          37                          iván rd  NaN   \n",
       "45          46                             juan  NaN   \n",
       "90          91                           ángela  NaN   \n",
       "94          95             mª josé  lópez-tello  NaN   \n",
       "100        101               ana lopi lopezuela  NaN   \n",
       "101        102                      eldominadas  NaN   \n",
       "108        109                           rómulo  NaN   \n",
       "115        116           hector tejada marivela  NaN   \n",
       "120        121                   alicia delgado  NaN   \n",
       "129        130                            elena  NaN   \n",
       "159        160        agustin fraile san martin  NaN   \n",
       "173        174              miguel angel arquez  NaN   \n",
       "201        202  rosana polo fernández-mayoralas  NaN   \n",
       "224        225                 rafa faus garcía  NaN   \n",
       "\n",
       "                                  vive_en  nacimiento  \n",
       "14                       Santoña - España         NaN  \n",
       "36                        Toledo - España         NaN  \n",
       "45                                 España         NaN  \n",
       "90                                 España      1910.0  \n",
       "94                        Málaga - España      1966.0  \n",
       "100                                España         NaN  \n",
       "101                      Oleiros - España      1975.0  \n",
       "108  San antonio de los altos - Venezuela      1992.0  \n",
       "115                                   NaN         NaN  \n",
       "120                                España         NaN  \n",
       "129                                España      1990.0  \n",
       "159                     Albacete - España      1948.0  \n",
       "173                                España         NaN  \n",
       "201                                España      1960.0  \n",
       "224                                España         NaN  "
      ]
     },
     "execution_count": 20,
     "metadata": {},
     "output_type": "execute_result"
    }
   ],
   "source": [
    "df_lectores[df_lectores[\"sexo\"].isna()]"
   ]
  },
  {
   "cell_type": "code",
   "execution_count": 21,
   "id": "aaae1fdd",
   "metadata": {},
   "outputs": [],
   "source": [
    "df_lectores.loc[df_lectores[\"id_lector\"] == 15, \"sexo\"] = \"hombre\"\n",
    "df_lectores.loc[df_lectores[\"id_lector\"] == 37, \"sexo\"]= \"hombre\"\n",
    "df_lectores.loc[df_lectores[\"id_lector\"] == 46, \"sexo\"]= \"hombre\"\n",
    "df_lectores.loc[df_lectores[\"id_lector\"] == 91, \"sexo\"]= \"mujer\"\n",
    "df_lectores.loc[df_lectores[\"id_lector\"] == 95, \"sexo\"]= \"mujer\"\n",
    "df_lectores.loc[df_lectores[\"id_lector\"] == 101, \"sexo\"]= \"mujer\"\n",
    "df_lectores.loc[df_lectores[\"id_lector\"] == 102, \"sexo\"]= \"hombre\"\n",
    "df_lectores.loc[df_lectores[\"id_lector\"] == 109, \"sexo\"]= \"hombre\"\n",
    "df_lectores.loc[df_lectores[\"id_lector\"] == 116, \"sexo\"]= \"hombre\"\n",
    "df_lectores.loc[df_lectores[\"id_lector\"] == 121, \"sexo\"]= \"mujer\"\n",
    "df_lectores.loc[df_lectores[\"id_lector\"] == 130, \"sexo\"]= \"mujer\"\n",
    "df_lectores.loc[df_lectores[\"id_lector\"] == 160, \"sexo\"]= \"hombre\"\n",
    "df_lectores.loc[df_lectores[\"id_lector\"] == 174, \"sexo\"]= \"hombre\"\n",
    "df_lectores.loc[df_lectores[\"id_lector\"] == 202, \"sexo\"]= \"mujer\"\n",
    "df_lectores.loc[df_lectores[\"id_lector\"] == 225, \"sexo\"]= \"hombre\""
   ]
  },
  {
   "cell_type": "code",
   "execution_count": 22,
   "id": "435db953",
   "metadata": {
    "scrolled": true
   },
   "outputs": [
    {
     "data": {
      "text/plain": [
       "sexo\n",
       "hombre    1975.895161\n",
       "mujer     1976.369863\n",
       "Name: nacimiento, dtype: float64"
      ]
     },
     "execution_count": 22,
     "metadata": {},
     "output_type": "execute_result"
    }
   ],
   "source": [
    "df_lectores.groupby(\"sexo\").nacimiento.mean()"
   ]
  },
  {
   "cell_type": "code",
   "execution_count": 23,
   "id": "cd717486",
   "metadata": {},
   "outputs": [],
   "source": [
    "df_lectores.loc[df_lectores[\"sexo\"] == \"hombre\", \"nacimiento\"] = df_lectores.loc[df_lectores[\"sexo\"] == \"hombre\", \"nacimiento\"].fillna(1976)\n",
    "df_lectores.loc[df_lectores[\"sexo\"] == \"mujer\", \"nacimiento\"] = df_lectores.loc[df_lectores[\"sexo\"] == \"mujer\", \"nacimiento\"].fillna(1976)\n"
   ]
  },
  {
   "cell_type": "code",
   "execution_count": 24,
   "id": "d9c40a66",
   "metadata": {},
   "outputs": [],
   "source": [
    "df_lectores[\"nacimiento\"] = pd.to_numeric(df_lectores[\"nacimiento\"], errors=\"coerce\")\n",
    "df_lectores[\"edad\"] = np.where(df_lectores[\"nacimiento\"].notnull(), 2024 - df_lectores[\"nacimiento\"], np.nan)"
   ]
  },
  {
   "cell_type": "code",
   "execution_count": 25,
   "id": "131457d4",
   "metadata": {},
   "outputs": [],
   "source": [
    "###una vez que tengo el genero nombre se va\n",
    "col_eliminar=['nombre','vive_en',\"nacimiento\"]\n",
    "df_lectores.drop(col_eliminar, axis=1, inplace= True)"
   ]
  },
  {
   "cell_type": "markdown",
   "id": "2c13457d",
   "metadata": {},
   "source": [
    "## Filtro lectores que estan en el train pero no en el test"
   ]
  },
  {
   "cell_type": "code",
   "execution_count": 26,
   "id": "5b222da9",
   "metadata": {},
   "outputs": [
    {
     "data": {
      "text/plain": [
       "(41277, 3)"
      ]
     },
     "execution_count": 26,
     "metadata": {},
     "output_type": "execute_result"
    }
   ],
   "source": [
    "lector_f=df_test['id_lector'].unique()\n",
    "\n",
    "df_train=df_train.loc[(df_train[\"id_lector\"].isin(lector_f))]"
   ]
  },
  {
   "cell_type": "markdown",
   "id": "26a5d6f9",
   "metadata": {},
   "source": [
    "## Hago el merge con libros y lectores"
   ]
  },
  {
   "cell_type": "code",
   "execution_count": 27,
   "id": "f7c4cc43",
   "metadata": {},
   "outputs": [],
   "source": [
    "df_train_libro=pd.merge(df_train,df_libros,on='id_libro',how='left')\n",
    "df_test_libro=pd.merge(df_test,df_libros,on='id_libro',how='left')"
   ]
  },
  {
   "cell_type": "code",
   "execution_count": 28,
   "id": "14c90dd3",
   "metadata": {},
   "outputs": [],
   "source": [
    "df_train_libro_lector=pd.merge(df_train_libro,df_lectores,on='id_lector',how='left')\n",
    "df_test_libro_lector=pd.merge(df_test_libro,df_lectores,on='id_lector',how='left')"
   ]
  },
  {
   "cell_type": "markdown",
   "id": "ae371e9d",
   "metadata": {},
   "source": [
    "## Filtro train con los autores y editoriales que estan en test"
   ]
  },
  {
   "cell_type": "code",
   "execution_count": 29,
   "id": "8d6dae90",
   "metadata": {},
   "outputs": [],
   "source": [
    "autor_f=df_test_libro_lector['autor'].unique()\n",
    "editorial_f=df_test_libro_lector['editorial'].unique()\n",
    "\n",
    "df_train_libro_lector=df_train_libro_lector.loc[(df_train_libro_lector[\"autor\"].isin(autor_f)) &\n",
    "                                              (df_train_libro_lector[\"editorial\"].isin(editorial_f))]"
   ]
  },
  {
   "cell_type": "markdown",
   "id": "12c8ea7e",
   "metadata": {},
   "source": [
    "## Que generos le gusta a cada lector?"
   ]
  },
  {
   "cell_type": "code",
   "execution_count": 30,
   "id": "c82795f9",
   "metadata": {},
   "outputs": [],
   "source": [
    "ranking_genero=df_train_libro_lector.groupby(['id_lector',\"genero\"])['label'].value_counts().unstack(fill_value=0).reset_index()"
   ]
  },
  {
   "cell_type": "code",
   "execution_count": 31,
   "id": "b4d18e91",
   "metadata": {},
   "outputs": [],
   "source": [
    "ranking_genero[\"total_leidos\"]= ranking_genero[0] + ranking_genero[1]"
   ]
  },
  {
   "cell_type": "code",
   "execution_count": 32,
   "id": "2c643d65",
   "metadata": {},
   "outputs": [],
   "source": [
    "ranking_genero[\"prob_like\"]=ranking_genero[1]/ranking_genero[\"total_leidos\"]"
   ]
  },
  {
   "cell_type": "code",
   "execution_count": 33,
   "id": "e35c9b4f",
   "metadata": {},
   "outputs": [],
   "source": [
    "# Define el término de suavización (alpha)\n",
    "alpha = 1\n",
    "\n",
    "# Aplica la suavización de Laplace\n",
    "ranking_genero[\"prob_like_smoothed_libro\"] = (ranking_genero[1] + alpha) / (ranking_genero[\"total_leidos\"] + 2 * alpha)"
   ]
  },
  {
   "cell_type": "code",
   "execution_count": 34,
   "id": "ca3ab44b",
   "metadata": {},
   "outputs": [],
   "source": [
    "ranking_genero=ranking_genero[[\"id_lector\",\"genero\",\"prob_like_smoothed_libro\"]]"
   ]
  },
  {
   "cell_type": "code",
   "execution_count": 35,
   "id": "3bd8a1ef",
   "metadata": {},
   "outputs": [],
   "source": [
    "prob_like_genero=pd.pivot_table(ranking_genero,values=\"prob_like_smoothed_libro\",index=\"id_lector\",columns=\"genero\").fillna(0).reset_index()"
   ]
  },
  {
   "cell_type": "code",
   "execution_count": 36,
   "id": "d81dbde3",
   "metadata": {},
   "outputs": [],
   "source": [
    "libros_entrenar=df_train_libro_lector[[\"id_lector\",\"id_libro\",\"genero\"]]\n",
    "libros_predecir=df_test_libro_lector[[\"id_lector\",\"id_libro\",\"genero\"]]"
   ]
  },
  {
   "cell_type": "code",
   "execution_count": 37,
   "id": "2d42d402",
   "metadata": {},
   "outputs": [],
   "source": [
    "perfil_lector_entrenar=prob_like_genero.merge(libros_entrenar,on=\"id_lector\",how=\"inner\")\n",
    "perfil_lector_predecir=prob_like_genero.merge(libros_predecir,on=\"id_lector\",how=\"inner\")"
   ]
  },
  {
   "cell_type": "code",
   "execution_count": 38,
   "id": "dee7856a",
   "metadata": {},
   "outputs": [],
   "source": [
    "def le_gustara_genero(df):\n",
    "    df['le va a gustar/segun_genero'] =0\n",
    "    def asignar_probabilidad(row):\n",
    "        genero = row['genero']  \n",
    "        probabilidad = row[genero]\n",
    "        return probabilidad\n",
    "    df['le va a gustar/segun_genero'] = df.apply(asignar_probabilidad, axis=1)\n",
    "    return df[[\"id_libro\",\"id_lector\",'le va a gustar/segun_genero']]"
   ]
  },
  {
   "cell_type": "code",
   "execution_count": 39,
   "id": "c5a01f64",
   "metadata": {},
   "outputs": [],
   "source": [
    "le_va_a_gustar_entrenar = le_gustara_genero(perfil_lector_entrenar)\n",
    "le_va_a_gustar_predecir = le_gustara_genero(perfil_lector_predecir)"
   ]
  },
  {
   "cell_type": "code",
   "execution_count": 40,
   "id": "a7b29a0a",
   "metadata": {},
   "outputs": [],
   "source": [
    "df_train_libro_lector=pd.merge(df_train_libro_lector,le_va_a_gustar_entrenar,on=[\"id_libro\",\"id_lector\"],how=\"left\")\n",
    "df_test_libro_lector=pd.merge(df_test_libro_lector,le_va_a_gustar_predecir,on=[\"id_libro\",\"id_lector\"],how=\"left\")"
   ]
  },
  {
   "cell_type": "markdown",
   "id": "d4d77217",
   "metadata": {},
   "source": [
    "# Armo el index"
   ]
  },
  {
   "cell_type": "code",
   "execution_count": 41,
   "id": "e14f91f7",
   "metadata": {},
   "outputs": [],
   "source": [
    "df_train_libro_lector['id_lector'] = df_train_libro_lector['id_lector'].mask(lambda x: x.notna(), df_train_libro_lector['id_lector'].astype(str))\n",
    "df_test_libro_lector['id_lector'] = df_test_libro_lector['id_lector'].mask(lambda x: x.notna(), df_test_libro_lector['id_lector'].astype(str))"
   ]
  },
  {
   "cell_type": "code",
   "execution_count": 42,
   "id": "29611ec9",
   "metadata": {
    "scrolled": true
   },
   "outputs": [],
   "source": [
    "df_train_libro_lector['index'] = df_train_libro_lector['id_lector'] + \"--\" + df_train_libro_lector['id_libro']\n",
    "\n",
    "# Paso 2: Establecer la nueva columna como índice\n",
    "df_train_libro_lector.set_index('index', inplace=True)\n",
    "\n",
    "df_test_libro_lector['index'] = df_test_libro_lector['id_lector'] + \"--\" + df_test_libro_lector['id_libro']\n",
    "\n",
    "# Paso 2: Establecer la nueva columna como índice\n",
    "df_test_libro_lector.set_index('index', inplace=True)"
   ]
  },
  {
   "cell_type": "code",
   "execution_count": 43,
   "id": "0d6c1b80",
   "metadata": {},
   "outputs": [],
   "source": [
    "col_eliminar=[\"id_libro\",\"titulo\"]\n",
    "df_train_libro_lector.drop(col_eliminar, axis=1, inplace= True)\n",
    "df_test_libro_lector.drop(col_eliminar, axis=1, inplace= True)"
   ]
  },
  {
   "cell_type": "code",
   "execution_count": 44,
   "id": "0f3a38a1",
   "metadata": {},
   "outputs": [],
   "source": [
    "df_train_libro_lector=pd.get_dummies(df_train_libro_lector, columns=['sexo',\"autor\",\"editorial\",'genero']) # , dummy_na=True\n",
    "df_test_libro_lector=pd.get_dummies(df_test_libro_lector, columns=['sexo',\"autor\",\"editorial\",'genero']) # , dummy_na=True"
   ]
  },
  {
   "cell_type": "code",
   "execution_count": 45,
   "id": "17ac143e",
   "metadata": {},
   "outputs": [],
   "source": [
    "# convertir ranking a entero\n",
    "df_train_libro_lector['rating'] = df_train_libro_lector['rating'].str.replace(\"'\", \"\")\n",
    "df_train_libro_lector['rating'] = df_train_libro_lector['rating'].str.replace(\",\", \".\")\n",
    "df_train_libro_lector['rating'] = pd.to_numeric(df_train_libro_lector['rating'], errors='coerce')\n",
    "\n",
    "## Eliminar NaNs\n",
    "df_train_libro_lector['rating'].fillna(2, inplace=True, downcast= \"infer\")\n",
    "\n",
    "# Convertir la columna 'rating' a int\n",
    "df_train_libro_lector['rating'] = df_train_libro_lector['rating'].astype(float)\n",
    "\n",
    "# Procesamiento para df_test_libro_lector\n",
    "df_test_libro_lector['rating'] = df_test_libro_lector['rating'].str.replace(\"'\", \"\")\n",
    "df_test_libro_lector['rating'] = df_test_libro_lector['rating'].str.replace(\",\", \".\")\n",
    "df_test_libro_lector['rating'] = pd.to_numeric(df_test_libro_lector['rating'], errors='coerce')\n",
    "\n",
    "# Completar NaN\n",
    "df_test_libro_lector['rating'].fillna(2, inplace=True, downcast= \"infer\")\n",
    "df_test_libro_lector['rating'] = df_test_libro_lector['rating'].astype(float)"
   ]
  },
  {
   "cell_type": "code",
   "execution_count": 46,
   "id": "6541aef1",
   "metadata": {},
   "outputs": [],
   "source": [
    "df_train_libro_lector[\"le va a gustar/segun_genero\"]=df_train_libro_lector[\"le va a gustar/segun_genero\"]*10\n",
    "df_test_libro_lector[\"le va a gustar/segun_genero\"]=df_test_libro_lector[\"le va a gustar/segun_genero\"]*10\n",
    "df_train_libro_lector[\"le va a gustar/segun_genero\"]=df_train_libro_lector[\"le va a gustar/segun_genero\"].round(2)\n",
    "df_test_libro_lector[\"le va a gustar/segun_genero\"]=df_test_libro_lector[\"le va a gustar/segun_genero\"].round(2)\n"
   ]
  },
  {
   "cell_type": "code",
   "execution_count": 47,
   "id": "b850870c",
   "metadata": {
    "scrolled": true
   },
   "outputs": [],
   "source": [
    "# La creación de modelos requiere que no haya valores perdidos\n",
    "df_train_libro_lector.fillna(0, inplace=True, downcast= \"infer\")\n",
    "df_test_libro_lector.fillna(0, inplace=True, downcast= \"infer\")"
   ]
  },
  {
   "cell_type": "markdown",
   "id": "ae8a712b",
   "metadata": {},
   "source": [
    "# 3. Entrenamiento del modelos (AA) -- ⛔⛔⛔ NO TOCAR ⛔⛔⛔"
   ]
  },
  {
   "cell_type": "code",
   "execution_count": null,
   "id": "2132031e",
   "metadata": {},
   "outputs": [],
   "source": [
    "def entrenamiento(df):\n",
    "    df = df.select_dtypes(include=['float64', 'int64', 'int32', 'int16', 'int8', 'bool'])\n",
    "\n",
    "    X = df[df.columns.drop('label')]\n",
    "    y = df['label']\n",
    "    \n",
    "    for n_estimators in [50, 100, 500, 1000]:\n",
    "        for max_depth in [5, 10, 15, 30]:\n",
    "            print(f\"{n_estimators=} -- {max_depth=}\")\n",
    "\n",
    "            # Creamos el modelo\n",
    "            reg = sk.ensemble.RandomForestClassifier(n_estimators=n_estimators, max_depth=max_depth,n_jobs=-1, random_state=42)\n",
    "\n",
    "            scores_train = []\n",
    "            scores_test = []\n",
    "\n",
    "            # Validación cruzada, 10 folds, shuffle antes, semilla aleatoria\n",
    "            kf = sk.model_selection.KFold(n_splits=10, shuffle=True, random_state=42)\n",
    "\n",
    "            for fold, (train_index, test_index) in enumerate(kf.split(X, y)):\n",
    "                # Partimos el fold en entrenamiento y prueba...\n",
    "                X_train, X_test, y_train, y_test = X.iloc[train_index], X.iloc[test_index], y.iloc[train_index], y.iloc[test_index]\n",
    "\n",
    "                # Entrenamos el modelo en entramiento\n",
    "                reg.fit(X_train, y_train)\n",
    "\n",
    "                # Predecimos en train\n",
    "                y_pred = reg.predict(X_train)\n",
    "\n",
    "                # Medimos la performance de la predicción en entramiento\n",
    "                score_train = sk.metrics.f1_score(y_train, y_pred)\n",
    "                scores_train.append(score_train)\n",
    "\n",
    "                # Predecimos en test\n",
    "                y_pred = reg.predict(X_test)\n",
    "\n",
    "                # Medimos la performance de la predicción en prueba\n",
    "                score_test = sk.metrics.mean_squared_error(y_test, y_pred, squared=False)\n",
    "                scores_test.append(score_test)\n",
    "\n",
    "                print(\"\\t\", f\"{fold=}, {score_train=} {score_test=}\")\n",
    "\n",
    "            print(f\"Media de scores en entrenamiento={pd.Series(scores_train).mean()}, std={pd.Series(scores_train).std()}\")\n",
    "            print(f\"Media de scores en prueba={pd.Series(scores_test).mean()}, std={pd.Series(scores_test).std()}\")\n",
    "            print()"
   ]
  },
  {
   "cell_type": "code",
   "execution_count": null,
   "id": "2f7b1019",
   "metadata": {},
   "outputs": [],
   "source": [
    "entrenamiento(df_train_libro_lector)"
   ]
  },
  {
   "cell_type": "markdown",
   "id": "85e3a431",
   "metadata": {},
   "source": [
    "# 4. Predicción para kaggle -- ⚠️⚠️⚠️ MODIFICAR HIPERPARÁMETROS ⚠️⚠️⚠️"
   ]
  },
  {
   "cell_type": "code",
   "execution_count": 48,
   "id": "d41f5f56",
   "metadata": {},
   "outputs": [],
   "source": [
    "def predecir(df_train,df_test,n_estimators,max_depth):\n",
    "    ## Datos a predecir\n",
    "    X = df_train[df_train.columns.drop('label')]\n",
    "    y = df_train['label']\n",
    "\n",
    "    X_test = df_test[df_train.columns.drop('label')]\n",
    "\n",
    "    reg = sk.ensemble.RandomForestClassifier(n_estimators=n_estimators, max_depth=max_depth, n_jobs=-1, random_state=42)\n",
    "    reg.fit(X, y)\n",
    "\n",
    "    # Predecimos\n",
    "    df_test['label'] = reg.predict(X_test)\n",
    "\n",
    "    # Creamos el dataframe para entregar\n",
    "    df_sol = df_test[[\"label\"]]\n",
    "    return df_sol,reg,X"
   ]
  },
  {
   "cell_type": "code",
   "execution_count": 49,
   "id": "a2ea76f1",
   "metadata": {},
   "outputs": [],
   "source": [
    "predic,mod,X=predecir(df_train_libro_lector,df_test_libro_lector,1000,30)"
   ]
  },
  {
   "cell_type": "code",
   "execution_count": 50,
   "id": "74f34b07",
   "metadata": {},
   "outputs": [],
   "source": [
    "predic=predic.rename_axis('id')"
   ]
  },
  {
   "cell_type": "code",
   "execution_count": 51,
   "id": "124377c2",
   "metadata": {},
   "outputs": [],
   "source": [
    "# Tests de validación de la predicción antes de subirla\n",
    "# Estos tests TIENEN que pasar sin error\n",
    "\n",
    "assert predic.shape[0] == 10332, f\"La cantidad de filas no es correcta. Es {predic.shape[0]} y debe ser 10332.\"\n",
    "assert predic.shape[1] == 1, f\"La cantidad de columnas no es correcta. Es {predic.shape[1]} y debe ser 1.\"\n",
    "assert 'label' in predic.columns, \"Falta la columna 'price'.\"\n",
    "assert predic.index.name == 'id', \"El índice debe llamarse 'id'.\""
   ]
  },
  {
   "cell_type": "code",
   "execution_count": 52,
   "id": "cc5b0855",
   "metadata": {},
   "outputs": [],
   "source": [
    "# Grabamos el archivo para subir a kaggle\n",
    "# TODO: Cambiar la versión y llevar registro\n",
    "\n",
    "version = \"vFinal\"\n",
    "predic.to_csv(f\"solucion-{version}.csv\", index=True)"
   ]
  }
 ],
 "metadata": {
  "kernelspec": {
   "display_name": "Python 3 (ipykernel)",
   "language": "python",
   "name": "python3"
  },
  "language_info": {
   "codemirror_mode": {
    "name": "ipython",
    "version": 3
   },
   "file_extension": ".py",
   "mimetype": "text/x-python",
   "name": "python",
   "nbconvert_exporter": "python",
   "pygments_lexer": "ipython3",
   "version": "3.10.9"
  }
 },
 "nbformat": 4,
 "nbformat_minor": 5
}
